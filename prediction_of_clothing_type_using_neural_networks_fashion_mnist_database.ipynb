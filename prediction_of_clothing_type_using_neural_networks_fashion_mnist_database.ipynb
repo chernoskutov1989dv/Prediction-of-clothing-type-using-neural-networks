{
  "nbformat": 4,
  "nbformat_minor": 0,
  "metadata": {
    "colab": {
      "provenance": [],
      "collapsed_sections": [],
      "authorship_tag": "ABX9TyMJSQufnX6lzoyqyuvFXTYh",
      "include_colab_link": true
    },
    "kernelspec": {
      "name": "python3",
      "display_name": "Python 3"
    },
    "language_info": {
      "name": "python"
    }
  },
  "cells": [
    {
      "cell_type": "markdown",
      "metadata": {
        "id": "view-in-github",
        "colab_type": "text"
      },
      "source": [
        "<a href=\"https://colab.research.google.com/github/chernoskutov1989dv/Prediction-of-clothing-type-using-neural-networks/blob/master/prediction_of_clothing_type_using_neural_networks_fashion_mnist_database.ipynb\" target=\"_parent\"><img src=\"https://colab.research.google.com/assets/colab-badge.svg\" alt=\"Open In Colab\"/></a>"
      ]
    },
    {
      "cell_type": "code",
      "execution_count": null,
      "metadata": {
        "id": "Q7CX488OzJ3T"
      },
      "outputs": [],
      "source": [
        "import  numpy as np\n",
        "import tensorflow as tf\n",
        "import matplotlib.pyplot as plt\n",
        "from tensorflow import keras\n",
        "%matplotlib inline\n",
        "from tensorflow.keras.datasets import fashion_mnist\n",
        "from tensorflow.keras.models import Sequential\n",
        "from tensorflow.keras.layers import Dense, Dropout\n",
        "\n"
      ]
    },
    {
      "cell_type": "code",
      "source": [
        "(x_train, y_train), (x_test, y_test) = fashion_mnist.load_data()"
      ],
      "metadata": {
        "colab": {
          "base_uri": "https://localhost:8080/"
        },
        "id": "4RifbV4kzRuw",
        "outputId": "79565d00-164f-44dd-96f6-916383de0d0d"
      },
      "execution_count": null,
      "outputs": [
        {
          "output_type": "stream",
          "name": "stdout",
          "text": [
            "Downloading data from https://storage.googleapis.com/tensorflow/tf-keras-datasets/train-labels-idx1-ubyte.gz\n",
            "29515/29515 [==============================] - 0s 0us/step\n",
            "Downloading data from https://storage.googleapis.com/tensorflow/tf-keras-datasets/train-images-idx3-ubyte.gz\n",
            "26421880/26421880 [==============================] - 0s 0us/step\n",
            "Downloading data from https://storage.googleapis.com/tensorflow/tf-keras-datasets/t10k-labels-idx1-ubyte.gz\n",
            "5148/5148 [==============================] - 0s 0us/step\n",
            "Downloading data from https://storage.googleapis.com/tensorflow/tf-keras-datasets/t10k-images-idx3-ubyte.gz\n",
            "4422102/4422102 [==============================] - 0s 0us/step\n"
          ]
        }
      ]
    },
    {
      "cell_type": "markdown",
      "source": [
        "Вручную пропишем имена классов"
      ],
      "metadata": {
        "id": "-cAq2YUBkFjS"
      }
    },
    {
      "cell_type": "code",
      "source": [
        "\n",
        "class_names = [\"T-shirt/top\" , \"Trouser\", \"Pulover\" , \"Dress\" , \"Coat\", \"Sandal\" , \"Shirt\" , \"Sneaker\" , \"Bag\", \"Ankle boot\"]    "
      ],
      "metadata": {
        "id": "2nFjrMXXDtEF"
      },
      "execution_count": null,
      "outputs": []
    },
    {
      "cell_type": "code",
      "source": [
        "\n",
        "plt.figure()\n",
        "plt.imshow(x_train[0]) #  в [] cкобки вставляем индекс от 0 до 59999.\n",
        "plt.colorbar()\n",
        "plt.grid(False) \n"
      ],
      "metadata": {
        "colab": {
          "base_uri": "https://localhost:8080/",
          "height": 265
        },
        "id": "xtQGJ_3rDx6V",
        "outputId": "8c8a8028-e91f-4056-eac7-0b00bcdd50ba"
      },
      "execution_count": null,
      "outputs": [
        {
          "output_type": "display_data",
          "data": {
            "text/plain": [
              "<Figure size 432x288 with 2 Axes>"
            ],
            "image/png": "[encoded data removed]"
          },
          "metadata": {
            "needs_background": "light"
          }
        }
      ]
    },
    {
      "cell_type": "code",
      "source": [],
      "metadata": {
        "id": "pR_dVkggD15V"
      },
      "execution_count": null,
      "outputs": []
    },
    {
      "cell_type": "markdown",
      "source": [
        "Делаем нормализацию"
      ],
      "metadata": {
        "id": "fmqOxeQ_EKU9"
      }
    },
    {
      "cell_type": "code",
      "source": [
        "\n",
        "x_train = x_train/255\n",
        "\n",
        "x_test = x_test/255"
      ],
      "metadata": {
        "id": "0EjrmyCMEO8M"
      },
      "execution_count": null,
      "outputs": []
    },
    {
      "cell_type": "markdown",
      "source": [
        "В обучающей (x_train) выборке -60 000 изображений. В тестовой(x_test) - 10 000 изображений."
      ],
      "metadata": {
        "id": "zzIhq6lmOoKq"
      }
    },
    {
      "cell_type": "code",
      "source": [
        "plt.figure()\n",
        "plt.imshow(x_train[0])\n",
        "plt.colorbar()\n",
        "plt.grid(False)"
      ],
      "metadata": {
        "colab": {
          "base_uri": "https://localhost:8080/",
          "height": 269
        },
        "id": "v7KBXF4JEPxl",
        "outputId": "9adbad47-8cbc-4497-e485-4503fcf9831f"
      },
      "execution_count": null,
      "outputs": [
        {
          "output_type": "display_data",
          "data": {
            "text/plain": [
              "<Figure size 432x288 with 2 Axes>"
            ],
            "image/png": "[encoded data removed]"
          },
          "metadata": {
            "needs_background": "light"
          }
        }
      ]
    },
    {
      "cell_type": "code",
      "source": [
        "plt.figure(figsize= (10, 10))\n",
        "for i in range (25):\n",
        "  plt.subplot(5,5, i+1)\n",
        "  plt.xticks([])\n",
        "  plt.yticks([])\n",
        "  plt.imshow( x_train[i])\n",
        "  plt.xlabel(class_names[y_train[i]])\n",
        "\n"
      ],
      "metadata": {
        "colab": {
          "base_uri": "https://localhost:8080/",
          "height": 589
        },
        "id": "dJoeIBo5EVXV",
        "outputId": "d52e56b8-34b8-46b6-83aa-102bb330f570"
      },
      "execution_count": null,
      "outputs": [
        {
          "output_type": "display_data",
          "data": {
            "text/plain": [
              "<Figure size 720x720 with 25 Axes>"
            ],
            "image/png": "[encoded data removed]"
          },
          "metadata": {}
        }
      ]
    },
    {
      "cell_type": "code",
      "source": [
        "model = keras.Sequential ([\n",
        "                           keras.layers.Flatten(input_shape = (28,28)),\n",
        "                           keras.layers.Dense(128, activation = \"relu\"),\n",
        "                           keras.layers.Dense(10, activation = \"softmax\")\n",
        "\n",
        "])"
      ],
      "metadata": {
        "id": "3VM0dCBcEbdl"
      },
      "execution_count": null,
      "outputs": []
    },
    {
      "cell_type": "markdown",
      "source": [
        "Для задачи классификации указываем в качестве функции потерь sparse_categorical_crossentropy"
      ],
      "metadata": {
        "id": "CpGueq3oEoJb"
      }
    },
    {
      "cell_type": "code",
      "source": [
        "\n",
        "model.compile(optimizer = tf.keras.optimizers.SGD(), loss = \"sparse_categorical_crossentropy\", metrics = [\"accuracy\"])"
      ],
      "metadata": {
        "id": "ANJ90DW8E2W6"
      },
      "execution_count": null,
      "outputs": []
    },
    {
      "cell_type": "code",
      "source": [
        "\n",
        "model.summary()"
      ],
      "metadata": {
        "colab": {
          "base_uri": "https://localhost:8080/"
        },
        "id": "VhnItH0JE5ub",
        "outputId": "850930e8-5039-4517-aad3-3492771f8e08"
      },
      "execution_count": null,
      "outputs": [
        {
          "output_type": "stream",
          "name": "stdout",
          "text": [
            "Model: \"sequential\"\n",
            "_________________________________________________________________\n",
            " Layer (type)                Output Shape              Param #   \n",
            "=================================================================\n",
            " flatten (Flatten)           (None, 784)               0         \n",
            "                                                                 \n",
            " dense (Dense)               (None, 128)               100480    \n",
            "                                                                 \n",
            " dense_1 (Dense)             (None, 10)                1290      \n",
            "                                                                 \n",
            "=================================================================\n",
            "Total params: 101,770\n",
            "Trainable params: 101,770\n",
            "Non-trainable params: 0\n",
            "_________________________________________________________________\n"
          ]
        }
      ]
    },
    {
      "cell_type": "code",
      "source": [
        "model.fit(x_train, y_train, epochs = 10)"
      ],
      "metadata": {
        "colab": {
          "base_uri": "https://localhost:8080/"
        },
        "id": "vJFEfd7rE76r",
        "outputId": "55c15b70-d395-46eb-e022-aa0c819ca18a"
      },
      "execution_count": null,
      "outputs": [
        {
          "output_type": "stream",
          "name": "stdout",
          "text": [
            "Epoch 1/10\n",
            "1875/1875 [==============================] - 5s 2ms/step - loss: 0.7228 - accuracy: 0.7667\n",
            "Epoch 2/10\n",
            "1875/1875 [==============================] - 5s 2ms/step - loss: 0.5119 - accuracy: 0.8250\n",
            "Epoch 3/10\n",
            "1875/1875 [==============================] - 4s 2ms/step - loss: 0.4696 - accuracy: 0.8375\n",
            "Epoch 4/10\n",
            "1875/1875 [==============================] - 4s 2ms/step - loss: 0.4449 - accuracy: 0.8465\n",
            "Epoch 5/10\n",
            "1875/1875 [==============================] - 5s 2ms/step - loss: 0.4271 - accuracy: 0.8520\n",
            "Epoch 6/10\n",
            "1875/1875 [==============================] - 5s 2ms/step - loss: 0.4119 - accuracy: 0.8571\n",
            "Epoch 7/10\n",
            "1875/1875 [==============================] - 5s 2ms/step - loss: 0.4006 - accuracy: 0.8604\n",
            "Epoch 8/10\n",
            "1875/1875 [==============================] - 4s 2ms/step - loss: 0.3901 - accuracy: 0.8651\n",
            "Epoch 9/10\n",
            "1875/1875 [==============================] - 4s 2ms/step - loss: 0.3820 - accuracy: 0.8669\n",
            "Epoch 10/10\n",
            "1875/1875 [==============================] - 5s 2ms/step - loss: 0.3738 - accuracy: 0.8702\n"
          ]
        },
        {
          "output_type": "execute_result",
          "data": {
            "text/plain": [
              "<keras.callbacks.History at 0x7ff012ff60d0>"
            ]
          },
          "metadata": {},
          "execution_count": 12
        }
      ]
    },
    {
      "cell_type": "code",
      "source": [
        "test_loss, test_acc = model.evaluate(x_test, y_test)\n",
        "print (\"Test accuracy: \", test_acc)\n"
      ],
      "metadata": {
        "colab": {
          "base_uri": "https://localhost:8080/"
        },
        "id": "yc4OUFMJFV_S",
        "outputId": "dfc9bdf4-c832-4317-9871-8329bf201e46"
      },
      "execution_count": null,
      "outputs": [
        {
          "output_type": "stream",
          "name": "stdout",
          "text": [
            "313/313 [==============================] - 1s 2ms/step - loss: 0.4049 - accuracy: 0.8577\n",
            "Test accuracy:  0.857699990272522\n"
          ]
        }
      ]
    },
    {
      "cell_type": "code",
      "source": [],
      "metadata": {
        "id": "pLpQ-3wxv95k"
      },
      "execution_count": null,
      "outputs": []
    },
    {
      "cell_type": "markdown",
      "source": [],
      "metadata": {
        "id": "2lVcz67hwtoU"
      }
    },
    {
      "cell_type": "markdown",
      "source": [
        "Всё, теперь модель обучена. И мы можем предсказывать то, что нарисовано на рисунках. Предсказываем на тех рисунках, на которых наша модель обучалась(x_train - 60000 рисунков)"
      ],
      "metadata": {
        "id": "9sIv1Xymv-Gg"
      }
    },
    {
      "cell_type": "code",
      "source": [
        "predictions = model.predict (x_train)\n",
        "predictions[1] # в индекс можем задавать значения от 0 до 59999\n"
      ],
      "metadata": {
        "colab": {
          "base_uri": "https://localhost:8080/"
        },
        "id": "aMiDT2nFFaNK",
        "outputId": "9947c151-e029-4318-e180-1135c87eba6b"
      },
      "execution_count": null,
      "outputs": [
        {
          "output_type": "stream",
          "name": "stdout",
          "text": [
            "1875/1875 [==============================] - 3s 1ms/step\n"
          ]
        },
        {
          "output_type": "execute_result",
          "data": {
            "text/plain": [
              "array([9.9112940e-01, 1.2959131e-07, 9.9540142e-05, 7.8810495e-05,\n",
              "       1.2372202e-07, 6.4128616e-12, 8.6852005e-03, 3.8626458e-10,\n",
              "       6.8381264e-06, 6.1278094e-10], dtype=float32)"
            ]
          },
          "metadata": {},
          "execution_count": 34
        }
      ]
    },
    {
      "cell_type": "markdown",
      "source": [
        "С вероятностью 99,11%  (array([9.9112940e-01 см. выше) изображение соответствует нулевому классу (отсчет начинается с нуля в python)"
      ],
      "metadata": {
        "id": "w3XYgisYxZ7X"
      }
    },
    {
      "cell_type": "code",
      "source": [
        "np.argmax(predictions[1])"
      ],
      "metadata": {
        "colab": {
          "base_uri": "https://localhost:8080/"
        },
        "id": "G7jpZ-30FfY5",
        "outputId": "4f2ee1e7-727a-45ae-85c7-42477de12cae"
      },
      "execution_count": null,
      "outputs": [
        {
          "output_type": "execute_result",
          "data": {
            "text/plain": [
              "0"
            ]
          },
          "metadata": {},
          "execution_count": 35
        }
      ]
    },
    {
      "cell_type": "markdown",
      "source": [
        "Проверим предсказанное:"
      ],
      "metadata": {
        "id": "Z-JIyeuhQZBP"
      }
    },
    {
      "cell_type": "code",
      "source": [
        "y_train[1]"
      ],
      "metadata": {
        "colab": {
          "base_uri": "https://localhost:8080/"
        },
        "id": "rYEi9NAFGmSg",
        "outputId": "9b2c0591-d60e-42a6-f844-85c7b3b24db6"
      },
      "execution_count": null,
      "outputs": [
        {
          "output_type": "execute_result",
          "data": {
            "text/plain": [
              "0"
            ]
          },
          "metadata": {},
          "execution_count": 39
        }
      ]
    },
    {
      "cell_type": "markdown",
      "source": [
        "Реальный ответ совпадает с предсказзанным моделью. Отлично."
      ],
      "metadata": {
        "id": "1kB8ZJHGQoha"
      }
    },
    {
      "cell_type": "code",
      "source": [
        "class_names[np.argmax(predictions[1])]"
      ],
      "metadata": {
        "colab": {
          "base_uri": "https://localhost:8080/",
          "height": 36
        },
        "id": "7An6ogFvGn1w",
        "outputId": "d4550e31-4db9-466f-f9d4-463b835c09d0"
      },
      "execution_count": null,
      "outputs": [
        {
          "output_type": "execute_result",
          "data": {
            "text/plain": [
              "'T-shirt/top'"
            ],
            "application/vnd.google.colaboratory.intrinsic+json": {
              "type": "string"
            }
          },
          "metadata": {},
          "execution_count": 40
        }
      ]
    },
    {
      "cell_type": "markdown",
      "source": [
        "Напечатаем тип одежды"
      ],
      "metadata": {
        "id": "bx7Az-eQR4fO"
      }
    },
    {
      "cell_type": "markdown",
      "source": [
        "И отразим далее на графике"
      ],
      "metadata": {
        "id": "1YnFA9AURkLM"
      }
    },
    {
      "cell_type": "code",
      "source": [
        "plt.figure()\n",
        "plt.imshow(x_train[1])\n",
        "plt.colorbar()\n",
        "plt.grid(False)\n",
        "\n"
      ],
      "metadata": {
        "colab": {
          "base_uri": "https://localhost:8080/",
          "height": 269
        },
        "id": "XNvW3SBcREdX",
        "outputId": "5d273f31-e501-4f22-afe4-3e227fd75235"
      },
      "execution_count": null,
      "outputs": [
        {
          "output_type": "display_data",
          "data": {
            "text/plain": [
              "<Figure size 432x288 with 2 Axes>"
            ],
            "image/png": "[encoded data removed]"
          },
          "metadata": {
            "needs_background": "light"
          }
        }
      ]
    }
  ]
}